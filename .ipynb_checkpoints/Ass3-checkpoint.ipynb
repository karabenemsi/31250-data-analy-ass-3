{
 "cells": [
  {
   "cell_type": "markdown",
   "metadata": {},
   "source": [
    "# Assignment 3"
   ]
  },
  {
   "cell_type": "markdown",
   "metadata": {},
   "source": [
    "## Get Preprocessed Data"
   ]
  },
  {
   "cell_type": "code",
   "execution_count": 1,
   "metadata": {
    "pycharm": {
     "is_executing": false,
     "name": "#%%\n"
    }
   },
   "outputs": [
    {
     "name": "stdout",
     "output_type": "stream",
     "text": [
      "DataFrame shape after feature selection:(78160, 32)\n",
      "DataFrame shape after outlier removal:(78160, 32)\n"
     ]
    },
    {
     "data": {
      "text/plain": [
       "14910"
      ]
     },
     "execution_count": 1,
     "metadata": {},
     "output_type": "execute_result"
    }
   ],
   "source": [
    "import preprocess\n",
    "from sklearn.model_selection import train_test_split\n",
    "from sklearn.ensemble import RandomForestClassifier\n",
    "from sklearn.neighbors import KNeighborsClassifier\n",
    "from sklearn.metrics import accuracy_score\n",
    "\n",
    "train_target, train_data, test_data, train_df, test_df = preprocess.preprocess(\n",
    "    \"TrainingSet.csv\", 'TestSet.csv', limit=None, remove_low_variance=False, remove_outliers=False)\n",
    "\n",
    "X_train, X_test, y_train, y_test = train_test_split(train_data, train_target, test_size=0.30)\n",
    "\n",
    "train_df['QuoteConversion_Flag'].sum()"
   ]
  },
  {
   "cell_type": "markdown",
   "metadata": {},
   "source": [
    "## Display graphs for the lulz"
   ]
  },
  {
   "cell_type": "code",
   "execution_count": null,
   "metadata": {},
   "outputs": [],
   "source": [
    "import matplotlib.pyplot as plt\n",
    "import seaborn as sns\n",
    "\n",
    "print(train_df.columns)\n",
    "\n",
    "i = 'Geographic_info3'\n",
    "plt.figure(figsize=(10,8))\n",
    "plt.subplot(211)\n",
    "plt.xlim(train_df[i].min(), train_df[i].max()*1.1)\n",
    "ax = train_df[i].plot(kind='kde')\n",
    "\n",
    "plt.subplot(212)\n",
    "plt.xlim(train_df[i].min(), train_df[i].max()*1.1)\n",
    "sns.boxplot(x=train_df[i])"
   ]
  },
  {
   "cell_type": "markdown",
   "metadata": {},
   "source": [
    "## Random Forest"
   ]
  },
  {
   "cell_type": "markdown",
   "metadata": {},
   "source": [
    "### Find best parameters for Random Forest"
   ]
  },
  {
   "cell_type": "code",
   "execution_count": null,
   "metadata": {
    "pycharm": {
     "is_executing": false,
     "name": "#%%\n"
    }
   },
   "outputs": [],
   "source": [
    "from sklearn.model_selection import GridSearchCV\n",
    "\n",
    "# Random Forest\n",
    "model = RandomForestClassifier(n_jobs=-1)\n",
    "parameters = {'n_estimators':[1,200], 'criterion':('entropy','gini')}\n",
    "gridSearch = GridSearchCV(model, parameters, cv=5)\n",
    "gridSearch.fit(X_train, y_train)\n",
    "#y_predict = model.predict(X_test)\n",
    "\n",
    "gridSearch.best_params_\n",
    "gridSearch.best_score_ \n",
    "gridSearch.cv_results_['params'][gridSearch.best_index_]\n",
    "# accuracy_score(y_test, y_predict)"
   ]
  },
  {
   "cell_type": "markdown",
   "metadata": {},
   "source": [
    "### Use Random Forest with found parameters"
   ]
  },
  {
   "cell_type": "code",
   "execution_count": 2,
   "metadata": {
    "pycharm": {
     "name": "#%%\n"
    }
   },
   "outputs": [
    {
     "name": "stdout",
     "output_type": "stream",
     "text": [
      "0.8458290685772774\n"
     ]
    },
    {
     "data": {
      "text/plain": [
       "[('Sales_info1', 0.14112207800429705),\n",
       " ('Personal_info1', 0.12365748100132615),\n",
       " ('Coverage_info2', 0.04320303468464613),\n",
       " ('Field_info4', 0.03919231698992318),\n",
       " ('Sales_info2', 0.03827394432100086),\n",
       " ('Property_info4', 0.03542468813061064),\n",
       " ('Geographic_info1', 0.03540426236411236),\n",
       " ('Quote_ID', 0.03371367202620034),\n",
       " ('Personal_info2', 0.03370101391453246),\n",
       " ('Sales_info4', 0.03350371052057399),\n",
       " ('Original_Quote_Date', 0.03262796606690391),\n",
       " ('Field_info2', 0.032474606837060195),\n",
       " ('Sales_info3', 0.03185661700483496),\n",
       " ('Property_info2', 0.029561652350488896),\n",
       " ('Coverage_info1', 0.02871371748279037),\n",
       " ('Property_info5', 0.02833959451790864),\n",
       " ('Field_info1', 0.0277962095969587),\n",
       " ('Property_info3', 0.027639992463716196),\n",
       " ('Coverage_info3', 0.02652186871886832),\n",
       " ('QuoteConversion_Flag', 0.02364140278254579),\n",
       " ('NJ', 0.01957773803598062),\n",
       " ('Personal_info4', 0.018269769014462204),\n",
       " ('IL', 0.018022308796723667),\n",
       " ('CA', 0.014880069146108604),\n",
       " ('Geographic_info4', 0.014521441920261974),\n",
       " ('Geographic_info3', 0.014191008718634924),\n",
       " ('Field_info3', 0.014162143995337507),\n",
       " ('Geographic_info2', 0.013693778502335918),\n",
       " ('Sales_info5', 0.013262821919955207),\n",
       " ('Personal_info3', 0.013049090170900376),\n",
       " ('Property_info1', 0.0)]"
      ]
     },
     "execution_count": 2,
     "metadata": {},
     "output_type": "execute_result"
    }
   ],
   "source": [
    "# Random Forest\n",
    "randomForestModel = RandomForestClassifier(n_estimators=200, criterion='entropy',n_jobs=-1)\n",
    "randomForestModel.fit(X_train, y_train)\n",
    "y_predict = randomForestModel.predict(X_test)\n",
    "\n",
    "print(accuracy_score(y_test, y_predict))\n",
    "\n",
    "features_dict = {}\n",
    "for i in range(len(randomForestModel.feature_importances_)):\n",
    "    features_dict[train_df.columns[i]] = randomForestModel.feature_importances_[i]\n",
    "sorted(features_dict.items(), key=lambda x:x[1], reverse=True)\n"
   ]
  },
  {
   "cell_type": "code",
   "execution_count": null,
   "metadata": {},
   "outputs": [],
   "source": [
    "result_predict = randomForestModel.predict(test_data)"
   ]
  },
  {
   "cell_type": "markdown",
   "metadata": {},
   "source": [
    "## k-nearest neighbour\n",
    "### Find best parameters for  k-nearest neighbour"
   ]
  },
  {
   "cell_type": "code",
   "execution_count": 15,
   "metadata": {},
   "outputs": [
    {
     "data": {
      "text/plain": [
       "{'n_neighbors': 20, 'weights': 'uniform'}"
      ]
     },
     "execution_count": 15,
     "metadata": {},
     "output_type": "execute_result"
    }
   ],
   "source": [
    "model = KNeighborsClassifier()\n",
    "parameters = {'n_neighbors':[1,20], 'weights':('uniform', 'distance')}\n",
    "gridSearch = GridSearchCV(model, parameters, cv=5)\n",
    "gridSearch.fit(X_train, y_train)\n",
    "\n",
    "gridSearch.best_params_\n",
    "gridSearch.best_score_ \n",
    "gridSearch.cv_results_['params'][gridSearch.best_index_]\n"
   ]
  },
  {
   "cell_type": "markdown",
   "metadata": {},
   "source": [
    "### Use k-nearest neighbour with found parameters"
   ]
  },
  {
   "cell_type": "code",
   "execution_count": null,
   "metadata": {},
   "outputs": [],
   "source": [
    "KNeighbors = KNeighborsClassifier(n_neighbors=20, weights='uniform')\n",
    "KNeighbors.fit(X_train, y_train)\n",
    "y_predict = KNeighbors.predict(X_test)\n",
    "\n",
    "\n",
    "accuracy_score(y_test, y_predict)"
   ]
  },
  {
   "cell_type": "code",
   "execution_count": 45,
   "metadata": {},
   "outputs": [],
   "source": [
    "result_predict = KNeighbors.predict(test_data)"
   ]
  },
  {
   "cell_type": "markdown",
   "metadata": {},
   "source": [
    "## SVM\n",
    "### Find best parameters for SVM"
   ]
  },
  {
   "cell_type": "code",
   "execution_count": null,
   "metadata": {},
   "outputs": [],
   "source": []
  },
  {
   "cell_type": "markdown",
   "metadata": {},
   "source": [
    "### Use SVM with found parameters"
   ]
  },
  {
   "cell_type": "code",
   "execution_count": null,
   "metadata": {},
   "outputs": [],
   "source": []
  },
  {
   "cell_type": "markdown",
   "metadata": {},
   "source": [
    "## Neural Network\n",
    "### Find best parameters for neural network"
   ]
  },
  {
   "cell_type": "code",
   "execution_count": null,
   "metadata": {},
   "outputs": [],
   "source": []
  },
  {
   "cell_type": "markdown",
   "metadata": {},
   "source": [
    "### Use neural network with found parameters"
   ]
  },
  {
   "cell_type": "code",
   "execution_count": null,
   "metadata": {},
   "outputs": [],
   "source": []
  },
  {
   "cell_type": "markdown",
   "metadata": {},
   "source": [
    "### Save Result to file"
   ]
  },
  {
   "cell_type": "code",
   "execution_count": 3,
   "metadata": {},
   "outputs": [
    {
     "data": {
      "text/html": [
       "<div>\n",
       "<style scoped>\n",
       "    .dataframe tbody tr th:only-of-type {\n",
       "        vertical-align: middle;\n",
       "    }\n",
       "\n",
       "    .dataframe tbody tr th {\n",
       "        vertical-align: top;\n",
       "    }\n",
       "\n",
       "    .dataframe thead th {\n",
       "        text-align: right;\n",
       "    }\n",
       "</style>\n",
       "<table border=\"1\" class=\"dataframe\">\n",
       "  <thead>\n",
       "    <tr style=\"text-align: right;\">\n",
       "      <th></th>\n",
       "      <th>Quote_ID</th>\n",
       "      <th>QuoteConversion_Flag</th>\n",
       "    </tr>\n",
       "  </thead>\n",
       "  <tbody>\n",
       "    <tr>\n",
       "      <th>count</th>\n",
       "      <td>26076.000000</td>\n",
       "      <td>26076.000000</td>\n",
       "    </tr>\n",
       "    <tr>\n",
       "      <th>mean</th>\n",
       "      <td>13038.500000</td>\n",
       "      <td>0.133916</td>\n",
       "    </tr>\n",
       "    <tr>\n",
       "      <th>std</th>\n",
       "      <td>7527.637146</td>\n",
       "      <td>0.340569</td>\n",
       "    </tr>\n",
       "    <tr>\n",
       "      <th>min</th>\n",
       "      <td>1.000000</td>\n",
       "      <td>0.000000</td>\n",
       "    </tr>\n",
       "    <tr>\n",
       "      <th>25%</th>\n",
       "      <td>6519.750000</td>\n",
       "      <td>0.000000</td>\n",
       "    </tr>\n",
       "    <tr>\n",
       "      <th>50%</th>\n",
       "      <td>13038.500000</td>\n",
       "      <td>0.000000</td>\n",
       "    </tr>\n",
       "    <tr>\n",
       "      <th>75%</th>\n",
       "      <td>19557.250000</td>\n",
       "      <td>0.000000</td>\n",
       "    </tr>\n",
       "    <tr>\n",
       "      <th>max</th>\n",
       "      <td>26076.000000</td>\n",
       "      <td>1.000000</td>\n",
       "    </tr>\n",
       "  </tbody>\n",
       "</table>\n",
       "</div>"
      ],
      "text/plain": [
       "           Quote_ID  QuoteConversion_Flag\n",
       "count  26076.000000          26076.000000\n",
       "mean   13038.500000              0.133916\n",
       "std     7527.637146              0.340569\n",
       "min        1.000000              0.000000\n",
       "25%     6519.750000              0.000000\n",
       "50%    13038.500000              0.000000\n",
       "75%    19557.250000              0.000000\n",
       "max    26076.000000              1.000000"
      ]
     },
     "execution_count": 3,
     "metadata": {},
     "output_type": "execute_result"
    }
   ],
   "source": [
    "import pandas as pd\n",
    "test_df['QuoteConversion_Flag'] = pd.Series(result_predict, index=test_df.index)\n",
    "\n",
    "todrop=[]\n",
    "for col in test_df.columns:\n",
    "    if col not in ['Quote_ID','QuoteConversion_Flag']:\n",
    "        todrop.append(col)\n",
    "test_df.drop(columns=todrop, inplace=True)\n",
    "test_df.to_csv('Kaggle_Submission.csv', index=False)\n",
    "test_df.describe()"
   ]
  }
 ],
 "metadata": {
  "kernelspec": {
   "display_name": "Python 3",
   "language": "python",
   "name": "python3"
  },
  "language_info": {
   "codemirror_mode": {
    "name": "ipython",
    "version": 3
   },
   "file_extension": ".py",
   "mimetype": "text/x-python",
   "name": "python",
   "nbconvert_exporter": "python",
   "pygments_lexer": "ipython3",
   "version": "3.7.3"
  },
  "pycharm": {
   "stem_cell": {
    "cell_type": "raw",
    "metadata": {
     "collapsed": false
    },
    "source": []
   }
  }
 },
 "nbformat": 4,
 "nbformat_minor": 2
}
