{
 "cells": [
  {
   "cell_type": "markdown",
   "metadata": {},
   "source": [
    "# Assignment 3"
   ]
  },
  {
   "cell_type": "code",
   "execution_count": 81,
   "metadata": {},
   "outputs": [],
   "source": [
    "import preprocess\n",
    "import pandas as pd\n",
    "import numpy as np\n",
    "from sklearn.model_selection import train_test_split\n",
    "from sklearn.ensemble import RandomForestClassifier\n",
    "from sklearn.neighbors import KNeighborsClassifier\n",
    "from sklearn.neural_network import MLPClassifier\n",
    "from sklearn.metrics import accuracy_score\n",
    "from sklearn.model_selection import GridSearchCV"
   ]
  },
  {
   "cell_type": "markdown",
   "metadata": {},
   "source": [
    "## Get Preprocessed Data"
   ]
  },
  {
   "cell_type": "code",
   "execution_count": 2,
   "metadata": {
    "pycharm": {
     "is_executing": false,
     "name": "#%%\n"
    }
   },
   "outputs": [
    {
     "name": "stdout",
     "output_type": "stream",
     "text": [
      "Limited Sample: 10000\n",
      "DataFrame shape after feature selection:(9997, 32)\n",
      "DataFrame shape after outlier removal:(9997, 32)\n"
     ]
    },
    {
     "data": {
      "text/plain": [
       "1866"
      ]
     },
     "execution_count": 2,
     "metadata": {},
     "output_type": "execute_result"
    }
   ],
   "source": [
    "\n",
    "\n",
    "train_target, train_data, test_data, train_df, test_df = preprocess.preprocess(\n",
    "    \"TrainingSet.csv\", 'TestSet.csv', limit=2000, remove_low_variance=False, remove_outliers=False)\n",
    "\n",
    "X_train, X_test, y_train, y_test = train_test_split(train_data, train_target, test_size=0.30)\n",
    "\n",
    "train_df['QuoteConversion_Flag'].sum()"
   ]
  },
  {
   "cell_type": "markdown",
   "metadata": {},
   "source": [
    "## Display graphs for the lulz"
   ]
  },
  {
   "cell_type": "code",
   "execution_count": 1,
   "metadata": {},
   "outputs": [
    {
     "ename": "NameError",
     "evalue": "name 'pd' is not defined",
     "output_type": "error",
     "traceback": [
      "\u001b[1;31m---------------------------------------------------------------------------\u001b[0m",
      "\u001b[1;31mNameError\u001b[0m                                 Traceback (most recent call last)",
      "\u001b[1;32m<ipython-input-1-5bbe28d7ce6e>\u001b[0m in \u001b[0;36m<module>\u001b[1;34m\u001b[0m\n\u001b[0;32m     11\u001b[0m        'Geographic_info3', 'Geographic_info4', 'CA', 'IL', 'NJ', 'TX']\n\u001b[0;32m     12\u001b[0m \u001b[1;33m\u001b[0m\u001b[0m\n\u001b[1;32m---> 13\u001b[1;33m \u001b[0mgraph_df\u001b[0m \u001b[1;33m=\u001b[0m \u001b[0mpd\u001b[0m\u001b[1;33m.\u001b[0m\u001b[0mDataFrame\u001b[0m\u001b[1;33m(\u001b[0m\u001b[0mtrain_data\u001b[0m\u001b[1;33m,\u001b[0m \u001b[0mcolumns\u001b[0m\u001b[1;33m=\u001b[0m\u001b[0mcolumns\u001b[0m\u001b[1;33m)\u001b[0m\u001b[1;33m\u001b[0m\u001b[1;33m\u001b[0m\u001b[0m\n\u001b[0m\u001b[0;32m     14\u001b[0m \u001b[1;33m\u001b[0m\u001b[0m\n\u001b[0;32m     15\u001b[0m \u001b[0mprint\u001b[0m\u001b[1;33m(\u001b[0m\u001b[0mtrain_df\u001b[0m\u001b[1;33m.\u001b[0m\u001b[0mcolumns\u001b[0m\u001b[1;33m)\u001b[0m\u001b[1;33m\u001b[0m\u001b[1;33m\u001b[0m\u001b[0m\n",
      "\u001b[1;31mNameError\u001b[0m: name 'pd' is not defined"
     ]
    }
   ],
   "source": [
    "import matplotlib.pyplot as plt\n",
    "import seaborn as sns\n",
    "\n",
    "# normalized data to dataframe\n",
    "columns=['Original_Quote_Date','Field_info1', 'Field_info2', 'Field_info3', 'Field_info4',\n",
    "       'Coverage_info1', 'Coverage_info2', 'Coverage_info3', 'Sales_info1',\n",
    "       'Sales_info2', 'Sales_info3', 'Sales_info4', 'Sales_info5',\n",
    "       'Personal_info1', 'Personal_info2', 'Personal_info3', 'Personal_info4',\n",
    "       'Property_info1', 'Property_info2', 'Property_info3', 'Property_info4',\n",
    "       'Property_info5', 'Geographic_info1', 'Geographic_info2',\n",
    "       'Geographic_info3', 'Geographic_info4', 'CA', 'IL', 'NJ', 'TX']\n",
    "\n",
    "graph_df = pd.DataFrame(train_data, columns=columns)\n",
    "\n",
    "print(train_df.columns)\n",
    "\n",
    "i = 'Personal_info1'\n",
    "plt.figure(figsize=(10,8))\n",
    "plt.subplot(211)\n",
    "plt.xlim(graph_df[i].min(), graph_df[i].max()*1.1)\n",
    "ax = graph_df[i].plot(kind='kde')\n",
    "\n",
    "#plt.subplot(212)\n",
    "#plt.xlim(graph_df[i].min(), graph_df[i].max()*1.1)\n",
    "#sns.boxplot(x=graph_df[i])"
   ]
  },
  {
   "cell_type": "markdown",
   "metadata": {},
   "source": [
    "## Init some variables for later use"
   ]
  },
  {
   "cell_type": "code",
   "execution_count": 11,
   "metadata": {},
   "outputs": [],
   "source": [
    "result_predict = dict()"
   ]
  },
  {
   "cell_type": "markdown",
   "metadata": {},
   "source": [
    "## Random Forest"
   ]
  },
  {
   "cell_type": "markdown",
   "metadata": {},
   "source": [
    "### Find best parameters for Random Forest"
   ]
  },
  {
   "cell_type": "code",
   "execution_count": null,
   "metadata": {
    "pycharm": {
     "is_executing": false,
     "name": "#%%\n"
    }
   },
   "outputs": [],
   "source": [
    "model = RandomForestClassifier(n_jobs=-1)\n",
    "parameters = {'n_estimators':[1,200], 'criterion':('entropy','gini')}\n",
    "gridSearch = GridSearchCV(model, parameters, cv=5)\n",
    "gridSearch.fit(X_train, y_train)\n",
    "\n",
    "gridSearch.cv_results_['params'][gridSearch.best_index_]"
   ]
  },
  {
   "cell_type": "markdown",
   "metadata": {},
   "source": [
    "### Use Random Forest with found parameters"
   ]
  },
  {
   "cell_type": "code",
   "execution_count": 9,
   "metadata": {
    "pycharm": {
     "name": "#%%\n"
    }
   },
   "outputs": [
    {
     "name": "stdout",
     "output_type": "stream",
     "text": [
      "0.8406666666666667\n"
     ]
    }
   ],
   "source": [
    "# Random Forest\n",
    "randomForestModel = RandomForestClassifier(n_estimators=200, criterion='entropy',n_jobs=-1)\n",
    "randomForestModel.fit(X_train, y_train)\n",
    "y_predict = randomForestModel.predict(X_test)\n",
    "\n",
    "print(accuracy_score(y_test, y_predict))"
   ]
  },
  {
   "cell_type": "code",
   "execution_count": 26,
   "metadata": {},
   "outputs": [
    {
     "ename": "NameError",
     "evalue": "name 'np' is not defined",
     "output_type": "error",
     "traceback": [
      "\u001b[1;31m---------------------------------------------------------------------------\u001b[0m",
      "\u001b[1;31mNameError\u001b[0m                                 Traceback (most recent call last)",
      "\u001b[1;32m<ipython-input-26-360e5028898d>\u001b[0m in \u001b[0;36m<module>\u001b[1;34m\u001b[0m\n\u001b[1;32m----> 1\u001b[1;33m \u001b[0mresult_predict\u001b[0m\u001b[1;33m[\u001b[0m\u001b[1;34m'RandomForest'\u001b[0m\u001b[1;33m]\u001b[0m \u001b[1;33m=\u001b[0m \u001b[0mnp\u001b[0m\u001b[1;33m.\u001b[0m\u001b[0marray\u001b[0m\u001b[1;33m(\u001b[0m\u001b[0mrandomForestModel\u001b[0m\u001b[1;33m.\u001b[0m\u001b[0mpredict\u001b[0m\u001b[1;33m(\u001b[0m\u001b[0mtest_data\u001b[0m\u001b[1;33m)\u001b[0m\u001b[1;33m)\u001b[0m\u001b[1;33m\u001b[0m\u001b[1;33m\u001b[0m\u001b[0m\n\u001b[0m",
      "\u001b[1;31mNameError\u001b[0m: name 'np' is not defined"
     ]
    }
   ],
   "source": [
    "result_predict['RandomForest'] = np.array(randomForestModel.predict(test_data))"
   ]
  },
  {
   "cell_type": "markdown",
   "metadata": {},
   "source": [
    "## k-nearest neighbour\n",
    "### Find best parameters for  k-nearest neighbour"
   ]
  },
  {
   "cell_type": "code",
   "execution_count": 15,
   "metadata": {},
   "outputs": [
    {
     "data": {
      "text/plain": [
       "{'n_neighbors': 20, 'weights': 'uniform'}"
      ]
     },
     "execution_count": 15,
     "metadata": {},
     "output_type": "execute_result"
    }
   ],
   "source": [
    "model = KNeighborsClassifier()\n",
    "parameters = {'n_neighbors':[1,20], 'weights':('uniform', 'distance')}\n",
    "gridSearch = GridSearchCV(model, parameters, cv=5)\n",
    "gridSearch.fit(X_train, y_train)\n",
    "\n",
    "gridSearch.best_params_\n",
    "gridSearch.best_score_ \n",
    "gridSearch.cv_results_['params'][gridSearch.best_index_]\n"
   ]
  },
  {
   "cell_type": "markdown",
   "metadata": {},
   "source": [
    "### Use k-nearest neighbour with found parameters"
   ]
  },
  {
   "cell_type": "code",
   "execution_count": 13,
   "metadata": {},
   "outputs": [
    {
     "data": {
      "text/plain": [
       "0.8196666666666667"
      ]
     },
     "execution_count": 13,
     "metadata": {},
     "output_type": "execute_result"
    }
   ],
   "source": [
    "KNeighbors = KNeighborsClassifier(n_neighbors=20, weights='uniform')\n",
    "KNeighbors.fit(X_train, y_train)\n",
    "y_predict = KNeighbors.predict(X_test)\n",
    "\n",
    "accuracy_score(y_test, y_predict)"
   ]
  },
  {
   "cell_type": "code",
   "execution_count": 14,
   "metadata": {},
   "outputs": [],
   "source": [
    "result_predict['KNeighbors'] = np.array(KNeighbors.predict(test_data))"
   ]
  },
  {
   "cell_type": "markdown",
   "metadata": {},
   "source": [
    "## SVM\n",
    "### Find best parameters for SVM"
   ]
  },
  {
   "cell_type": "code",
   "execution_count": null,
   "metadata": {},
   "outputs": [],
   "source": [
    "#model = KNeighborsClassifier()\n",
    "#parameters = {'n_neighbors':[1,20], 'weights':('uniform', 'distance')}\n",
    "#gridSearch = GridSearchCV(model, parameters, cv=5)\n",
    "#gridSearch.fit(X_train, y_train)\n",
    "\n",
    "#gridSearch.cv_results_['params'][gridSearch.best_index_]"
   ]
  },
  {
   "cell_type": "markdown",
   "metadata": {},
   "source": [
    "### Use SVM with found parameters"
   ]
  },
  {
   "cell_type": "code",
   "execution_count": null,
   "metadata": {},
   "outputs": [],
   "source": [
    "#KNeighbors = KNeighborsClassifier(n_neighbors=20, weights='uniform')\n",
    "#KNeighbors.fit(X_train, y_train)\n",
    "#y_predict = KNeighbors.predict(X_test)\n",
    "\n",
    "#accuracy_score(y_test, y_predict)"
   ]
  },
  {
   "cell_type": "code",
   "execution_count": null,
   "metadata": {},
   "outputs": [],
   "source": [
    "result_predict['SVM'] = np.array(KNeighbors.predict(test_data))"
   ]
  },
  {
   "cell_type": "markdown",
   "metadata": {},
   "source": [
    "## Neural Network\n",
    "### Find best parameters for neural network"
   ]
  },
  {
   "cell_type": "code",
   "execution_count": null,
   "metadata": {},
   "outputs": [],
   "source": [
    "#model = KNeighborsClassifier()\n",
    "#parameters = {'n_neighbors':[1,20], 'weights':('uniform', 'distance')}\n",
    "#gridSearch = GridSearchCV(model, parameters, cv=5)\n",
    "#gridSearch.fit(X_train, y_train)\n",
    "\n",
    "#gridSearch.cv_results_['params'][gridSearch.best_index_]"
   ]
  },
  {
   "cell_type": "markdown",
   "metadata": {},
   "source": [
    "### Use neural network with found parameters"
   ]
  },
  {
   "cell_type": "code",
   "execution_count": 91,
   "metadata": {},
   "outputs": [
    {
     "data": {
      "text/plain": [
       "0.8106666666666666"
      ]
     },
     "execution_count": 91,
     "metadata": {},
     "output_type": "execute_result"
    }
   ],
   "source": [
    "mlpNetwork = MLPClassifier(solver='adam', alpha=1e-5, learning_rate_init=0.0001,\n",
    "                           hidden_layer_sizes=(6, 6), random_state=1)\n",
    "mlpNetwork.fit(X_train, y_train)\n",
    "y_predict = mlpNetwork.predict(X_test)\n",
    "\n",
    "accuracy_score(y_test, y_predict)"
   ]
  },
  {
   "cell_type": "code",
   "execution_count": null,
   "metadata": {},
   "outputs": [],
   "source": [
    "result_predict['mlpNetwork'] = np.array(KNeighbors.predict(test_data))"
   ]
  },
  {
   "cell_type": "markdown",
   "metadata": {},
   "source": [
    "## Do stuff with unsure rows"
   ]
  },
  {
   "cell_type": "code",
   "execution_count": 79,
   "metadata": {},
   "outputs": [
    {
     "name": "stdout",
     "output_type": "stream",
     "text": [
      "11.320754716981133% Unsure\n"
     ]
    }
   ],
   "source": [
    "result_df = pd.DataFrame(result_predict)\n",
    "result_df['Sum'] = result_df.sum(axis=1)\n",
    "\n",
    "count = 0\n",
    "for row in result_df['Sum']:\n",
    "    if 0 < row < (len(result_df.keys())-1):\n",
    "        count+=1\n",
    "print(str(count/len(result_df)*100) + '% Unsure')"
   ]
  },
  {
   "cell_type": "markdown",
   "metadata": {},
   "source": [
    "### Save Result to file"
   ]
  },
  {
   "cell_type": "code",
   "execution_count": 3,
   "metadata": {},
   "outputs": [
    {
     "data": {
      "text/html": [
       "<div>\n",
       "<style scoped>\n",
       "    .dataframe tbody tr th:only-of-type {\n",
       "        vertical-align: middle;\n",
       "    }\n",
       "\n",
       "    .dataframe tbody tr th {\n",
       "        vertical-align: top;\n",
       "    }\n",
       "\n",
       "    .dataframe thead th {\n",
       "        text-align: right;\n",
       "    }\n",
       "</style>\n",
       "<table border=\"1\" class=\"dataframe\">\n",
       "  <thead>\n",
       "    <tr style=\"text-align: right;\">\n",
       "      <th></th>\n",
       "      <th>Quote_ID</th>\n",
       "      <th>QuoteConversion_Flag</th>\n",
       "    </tr>\n",
       "  </thead>\n",
       "  <tbody>\n",
       "    <tr>\n",
       "      <th>count</th>\n",
       "      <td>26076.000000</td>\n",
       "      <td>26076.000000</td>\n",
       "    </tr>\n",
       "    <tr>\n",
       "      <th>mean</th>\n",
       "      <td>13038.500000</td>\n",
       "      <td>0.133916</td>\n",
       "    </tr>\n",
       "    <tr>\n",
       "      <th>std</th>\n",
       "      <td>7527.637146</td>\n",
       "      <td>0.340569</td>\n",
       "    </tr>\n",
       "    <tr>\n",
       "      <th>min</th>\n",
       "      <td>1.000000</td>\n",
       "      <td>0.000000</td>\n",
       "    </tr>\n",
       "    <tr>\n",
       "      <th>25%</th>\n",
       "      <td>6519.750000</td>\n",
       "      <td>0.000000</td>\n",
       "    </tr>\n",
       "    <tr>\n",
       "      <th>50%</th>\n",
       "      <td>13038.500000</td>\n",
       "      <td>0.000000</td>\n",
       "    </tr>\n",
       "    <tr>\n",
       "      <th>75%</th>\n",
       "      <td>19557.250000</td>\n",
       "      <td>0.000000</td>\n",
       "    </tr>\n",
       "    <tr>\n",
       "      <th>max</th>\n",
       "      <td>26076.000000</td>\n",
       "      <td>1.000000</td>\n",
       "    </tr>\n",
       "  </tbody>\n",
       "</table>\n",
       "</div>"
      ],
      "text/plain": [
       "           Quote_ID  QuoteConversion_Flag\n",
       "count  26076.000000          26076.000000\n",
       "mean   13038.500000              0.133916\n",
       "std     7527.637146              0.340569\n",
       "min        1.000000              0.000000\n",
       "25%     6519.750000              0.000000\n",
       "50%    13038.500000              0.000000\n",
       "75%    19557.250000              0.000000\n",
       "max    26076.000000              1.000000"
      ]
     },
     "execution_count": 3,
     "metadata": {},
     "output_type": "execute_result"
    }
   ],
   "source": [
    "\n",
    "test_df['QuoteConversion_Flag'] = pd.Series(result_predict, index=test_df.index)\n",
    "\n",
    "todrop=[]\n",
    "for col in test_df.columns:\n",
    "    if col not in ['Quote_ID','QuoteConversion_Flag']:\n",
    "        todrop.append(col)\n",
    "test_df.drop(columns=todrop, inplace=True)\n",
    "test_df.to_csv('Kaggle_Submission.csv', index=False)\n",
    "test_df.describe()"
   ]
  }
 ],
 "metadata": {
  "kernelspec": {
   "display_name": "Python 3",
   "language": "python",
   "name": "python3"
  },
  "language_info": {
   "codemirror_mode": {
    "name": "ipython",
    "version": 3
   },
   "file_extension": ".py",
   "mimetype": "text/x-python",
   "name": "python",
   "nbconvert_exporter": "python",
   "pygments_lexer": "ipython3",
   "version": "3.7.3"
  },
  "pycharm": {
   "stem_cell": {
    "cell_type": "raw",
    "metadata": {
     "collapsed": false
    },
    "source": []
   }
  }
 },
 "nbformat": 4,
 "nbformat_minor": 2
}
