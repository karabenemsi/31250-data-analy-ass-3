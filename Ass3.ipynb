{
 "cells": [
  {
   "cell_type": "markdown",
   "metadata": {},
   "source": [
    "# Assignment 3"
   ]
  },
  {
   "cell_type": "code",
   "execution_count": 1,
   "metadata": {
    "pycharm": {
     "is_executing": false
    }
   },
   "outputs": [],
   "source": [
    "import preprocess\n",
    "import pandas as pd\n",
    "import numpy as np\n",
    "from sklearn.model_selection import train_test_split\n",
    "from sklearn.ensemble import RandomForestClassifier\n",
    "from sklearn.neighbors import KNeighborsClassifier\n",
    "from sklearn.neural_network import MLPClassifier\n",
    "from sklearn.svm import SVC\n",
    "from sklearn.model_selection import StratifiedKFold\n",
    "from imblearn.over_sampling import SMOTE\n",
    "from sklearn.metrics import roc_auc_score\n",
    "from sklearn.model_selection import GridSearchCV"
   ]
  },
  {
   "cell_type": "markdown",
   "metadata": {},
   "source": [
    "## Get Preprocessed Data"
   ]
  },
  {
   "cell_type": "code",
   "execution_count": 2,
   "metadata": {
    "pycharm": {
     "is_executing": false,
     "name": "#%%\n"
    }
   },
   "outputs": [],
   "source": [
    "train_target, train_data, test_data, train_df, test_df = preprocess.preprocess(\n",
    "    \"TrainingSet.csv\", 'TestSet.csv', limit=None, remove_low_variance=True, remove_outliers=True)"
   ]
  },
  {
   "cell_type": "code",
   "execution_count": 3,
   "metadata": {
    "pycharm": {
     "is_executing": false
    }
   },
   "outputs": [],
   "source": [
    "X_g_train, X_g_test, y_g_train, y_g_test = train_test_split(train_data, train_target, test_size=0.30)"
   ]
  },
  {
   "cell_type": "markdown",
   "metadata": {},
   "source": [
    "## Init some variables for later use"
   ]
  },
  {
   "cell_type": "code",
   "execution_count": 4,
   "metadata": {
    "pycharm": {
     "is_executing": false
    }
   },
   "outputs": [],
   "source": [
    "result_predict = dict()\n",
    "test_predict = dict()"
   ]
  },
  {
   "cell_type": "markdown",
   "metadata": {},
   "source": [
    "## Random Forest\n",
    "### Use Random Forest with found parameters"
   ]
  },
  {
   "cell_type": "code",
   "execution_count": 6,
   "metadata": {
    "pycharm": {
     "is_executing": false,
     "name": "#%%\n"
    }
   },
   "outputs": [],
   "source": [
    "cv = StratifiedKFold(n_splits=5)\n",
    "\n",
    "model = RandomForestClassifier(n_estimators=128, criterion='entropy',n_jobs=-1)\n",
    "for train_idx, test_idx, in cv.split(train_data, train_target):\n",
    "    X_train, y_train = train_data[train_idx], train_target[train_idx]\n",
    "    X_test, y_test = train_data[test_idx], train_target[test_idx]\n",
    "\n",
    "    # Use SMOTE to oversample the dataset for better training accuracy\n",
    "    sm = SMOTE()\n",
    "    X_train_oversampled, y_train_oversampled = sm.fit_sample(X_train, y_train)\n",
    "    \n",
    "    # Fit and predict\n",
    "    model.fit(X_train_oversampled, y_train_oversampled)  \n",
    "    y_pred = model.predict(X_test)\n",
    "\n",
    "    print(f'auc: {roc_auc_score(y_test, y_pred)}')\n",
    "\n",
    "y_predict = model.predict(X_g_test)\n",
    "\n",
    "print(roc_auc_score(y_g_test, y_predict))"
   ]
  },
  {
   "cell_type": "code",
   "execution_count": 7,
   "metadata": {
    "pycharm": {
     "is_executing": false
    }
   },
   "outputs": [],
   "source": [
    "result_predict['RandomForest'] = np.array(model.predict(test_data))\n",
    "test_predict['RandomForest'] = np.array(model.predict(X_g_test))"
   ]
  },
  {
   "cell_type": "markdown",
   "metadata": {},
   "source": [
    "## k-nearest neighbour\n",
    "### Use k-nearest neighbour with found parameters"
   ]
  },
  {
   "cell_type": "code",
   "execution_count": 9,
   "metadata": {
    "pycharm": {
     "is_executing": false
    }
   },
   "outputs": [],
   "source": [
    "cv = StratifiedKFold(n_splits=5)\n",
    "\n",
    "model = KNeighborsClassifier(n_neighbors=20, weights='uniform', n_jobs=-1)\n",
    "for train_idx, test_idx, in cv.split(train_data, train_target):\n",
    "    X_train, y_train = train_data[train_idx], train_target[train_idx]\n",
    "    X_test, y_test = train_data[test_idx], train_target[test_idx]\n",
    "\n",
    "    # Use SMOTE to oversample the dataset for better training accuracy\n",
    "    sm = SMOTE()\n",
    "    X_train_oversampled, y_train_oversampled = sm.fit_sample(X_train, y_train)\n",
    "    \n",
    "    # Fit and predict\n",
    "    model.fit(X_train_oversampled, y_train_oversampled)  \n",
    "    y_pred = model.predict(X_test)\n",
    "\n",
    "    print(f'auc: {roc_auc_score(y_test, y_pred)}')\n",
    "\n",
    "y_predict = model.predict(X_g_test)\n",
    "\n",
    "print(roc_auc_score(y_g_test, y_predict))"
   ]
  },
  {
   "cell_type": "code",
   "execution_count": 10,
   "metadata": {
    "pycharm": {
     "is_executing": false
    }
   },
   "outputs": [],
   "source": [
    "result_predict['KNeighbors'] = np.array(model.predict(test_data))\n",
    "test_predict['KNeighbors'] = np.array(model.predict(X_g_test))"
   ]
  },
  {
   "cell_type": "markdown",
   "metadata": {},
   "source": [
    "## SVM\n",
    "### Use SVM with found parameters"
   ]
  },
  {
   "cell_type": "code",
   "execution_count": 12,
   "metadata": {
    "pycharm": {
     "is_executing": false
    }
   },
   "outputs": [],
   "source": [
    "model = SVC(gamma='auto')\n",
    "model.fit(X_train, y_train)\n",
    "y_predict = model.predict(X_test)\n",
    "\n",
    "print(roc_auc_score(y_test, y_predict))"
   ]
  },
  {
   "cell_type": "code",
   "execution_count": 13,
   "metadata": {
    "pycharm": {
     "is_executing": false
    }
   },
   "outputs": [],
   "source": [
    "result_predict['SVM'] = np.array(model.predict(test_data))\n",
    "test_predict['SVM'] = np.array(model.predict(X_g_test))"
   ]
  },
  {
   "cell_type": "markdown",
   "metadata": {},
   "source": [
    "## Neural Network\n",
    "### Use neural network with found parameters"
   ]
  },
  {
   "cell_type": "code",
   "execution_count": null,
   "metadata": {
    "pycharm": {
     "is_executing": true
    }
   },
   "outputs": [],
   "source": [
    "cv = StratifiedKFold(n_splits=5)\n",
    "\n",
    "model = MLPClassifier(solver='adam', alpha=0.001, learning_rate_init=0.0001,\n",
    "                           hidden_layer_sizes=(25, 10,10), max_iter=1000)\n",
    "for train_idx, test_idx, in cv.split(train_data, train_target):\n",
    "    X_train, y_train = train_data[train_idx], train_target[train_idx]\n",
    "    X_test, y_test = train_data[test_idx], train_target[test_idx]\n",
    "\n",
    "    # Use SMOTE to oversample the dataset for better training accuracy\n",
    "    sm = SMOTE()\n",
    "    X_train_oversampled, y_train_oversampled = sm.fit_sample(X_train, y_train)\n",
    "    \n",
    "    # Fit and predict\n",
    "    model.fit(X_train_oversampled, y_train_oversampled)  \n",
    "    y_pred = model.predict(X_test)\n",
    "\n",
    "    print(f'auc: {roc_auc_score(y_test, y_pred)}')\n",
    "\n",
    "y_predict = model.predict(X_g_test)\n",
    "\n",
    "print(roc_auc_score(y_g_test, y_predict))"
   ]
  },
  {
   "cell_type": "code",
   "execution_count": null,
   "metadata": {
    "pycharm": {
     "is_executing": true
    }
   },
   "outputs": [],
   "source": [
    "result_predict['mlpNetwork'] = np.array(model.predict(test_data))\n",
    "test_predict['mlpNetwork'] = np.array(model.predict(X_g_test))"
   ]
  },
  {
   "cell_type": "markdown",
   "metadata": {},
   "source": [
    "## Do stuff with unsure rows"
   ]
  },
  {
   "cell_type": "code",
   "execution_count": null,
   "metadata": {
    "pycharm": {
     "is_executing": true
    }
   },
   "outputs": [],
   "source": [
    "result_df = pd.DataFrame(result_predict)\n",
    "result_df['Sum'] = result_df.sum(axis=1)\n",
    "\n",
    "\n",
    "count = 0\n",
    "final = []\n",
    "width = len(result_df.keys())-1\n",
    "for row in result_df['Sum']:\n",
    "    if 0 < row < width:\n",
    "        #print(1 if row > (width/2) else 0)\n",
    "        final.append(1 if row > (width/2) else 0)\n",
    "        count+=1\n",
    "    else:\n",
    "        final.append(0 if row == 0 else 1)\n",
    "result_df['Final']=final\n",
    "print(str(count/len(result_df)*100) + '% Unsure')\n",
    "\n",
    "t_df = pd.DataFrame(test_predict)\n",
    "t_df['Sum'] = t_df.sum(axis=1)\n",
    "\n",
    "\n",
    "count = 0\n",
    "final = []\n",
    "width = len(t_df.keys())-1\n",
    "for row in t_df['Sum']:\n",
    "    if 0 < row < width:\n",
    "        #print(1 if row > (width/2) else 0)\n",
    "        final.append(1 if row > (width/2) else 0)\n",
    "        count+=1\n",
    "    else:\n",
    "        final.append(0 if row == 0 else 1)\n",
    "t_df['Final']=final\n",
    "print(str(count/len(t_df)*100) + '% Unsure')\n",
    "\n",
    "\n",
    "roc_auc_score(y_g_test,list(t_df['Final']))"
   ]
  },
  {
   "cell_type": "markdown",
   "metadata": {},
   "source": [
    "### Save Result to file"
   ]
  },
  {
   "cell_type": "code",
   "execution_count": null,
   "metadata": {
    "pycharm": {
     "is_executing": true
    }
   },
   "outputs": [],
   "source": [
    "\n",
    "test_df['QuoteConversion_Flag'] = pd.Series(result_df['Final'], index=test_df.index)\n",
    "\n",
    "todrop=[]\n",
    "for col in test_df.columns:\n",
    "    if col not in ['Quote_ID','QuoteConversion_Flag']:\n",
    "        todrop.append(col)\n",
    "test_df.drop(columns=todrop, inplace=True)\n",
    "test_df.to_csv('Kaggle_Submission.csv', index=False)\n",
    "test_df.describe()"
   ]
  }
 ],
 "metadata": {
  "kernelspec": {
   "display_name": "Python 3",
   "language": "python",
   "name": "python3"
  },
  "language_info": {
   "codemirror_mode": {
    "name": "ipython",
    "version": 3
   },
   "file_extension": ".py",
   "mimetype": "text/x-python",
   "name": "python",
   "nbconvert_exporter": "python",
   "pygments_lexer": "ipython3",
   "version": "3.7.3"
  },
  "pycharm": {
   "stem_cell": {
    "cell_type": "raw",
    "source": [],
    "metadata": {
     "collapsed": false
    }
   }
  }
 },
 "nbformat": 4,
 "nbformat_minor": 2
}