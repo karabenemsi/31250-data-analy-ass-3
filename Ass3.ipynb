{
 "cells": [
  {
   "cell_type": "markdown",
   "metadata": {},
   "source": [
    "# Assignment 3"
   ]
  },
  {
   "cell_type": "markdown",
   "metadata": {},
   "source": [
    "## Get Preprocessed Data"
   ]
  },
  {
   "cell_type": "code",
   "execution_count": 5,
   "metadata": {
    "pycharm": {
     "is_executing": false,
     "name": "#%%\n"
    }
   },
   "outputs": [
    {
     "name": "stdout",
     "output_type": "stream",
     "text": [
      "DataFrame shape after feature selection:(78160, 32)\n",
      "DataFrame shape after outlier removal:(78160, 32)\n"
     ]
    },
    {
     "data": {
      "text/plain": [
       "14910"
      ]
     },
     "execution_count": 5,
     "metadata": {},
     "output_type": "execute_result"
    }
   ],
   "source": [
    "import preprocess\n",
    "from sklearn.model_selection import train_test_split\n",
    "from sklearn.ensemble import RandomForestClassifier\n",
    "from sklearn.neighbors import KNeighborsClassifier\n",
    "from sklearn.metrics import accuracy_score\n",
    "\n",
    "train_target, train_data, test_data, train_df, test_df = preprocess.preprocess(\n",
    "    \"TrainingSet.csv\", 'TestSet.csv', limit=None, remove_low_variance=False, remove_outliers=False)\n",
    "\n",
    "X_train, X_test, y_train, y_test = train_test_split(train_data, train_target, test_size=0.30)\n",
    "\n",
    "train_df['QuoteConversion_Flag'].sum()"
   ]
  },
  {
   "cell_type": "markdown",
   "metadata": {},
   "source": [
    "## Display graphs for the lulz"
   ]
  },
  {
   "cell_type": "code",
   "execution_count": null,
   "metadata": {},
   "outputs": [],
   "source": [
    "import matplotlib.pyplot as plt\n",
    "import seaborn as sns\n",
    "\n",
    "print(train_df.columns)\n",
    "\n",
    "i = 'Geographic_info3'\n",
    "plt.figure(figsize=(10,8))\n",
    "plt.subplot(211)\n",
    "plt.xlim(train_df[i].min(), train_df[i].max()*1.1)\n",
    "ax = train_df[i].plot(kind='kde')\n",
    "\n",
    "plt.subplot(212)\n",
    "plt.xlim(train_df[i].min(), train_df[i].max()*1.1)\n",
    "sns.boxplot(x=train_df[i])"
   ]
  },
  {
   "cell_type": "markdown",
   "metadata": {},
   "source": [
    "## Random Forest"
   ]
  },
  {
   "cell_type": "markdown",
   "metadata": {},
   "source": [
    "### Find best parameters for Random Forest"
   ]
  },
  {
   "cell_type": "code",
   "execution_count": null,
   "metadata": {
    "pycharm": {
     "is_executing": false,
     "name": "#%%\n"
    }
   },
   "outputs": [],
   "source": [
    "from sklearn.model_selection import GridSearchCV\n",
    "\n",
    "# Random Forest\n",
    "model = RandomForestClassifier(n_jobs=-1)\n",
    "parameters = {'n_estimators':[1,200], 'criterion':('entropy','gini')}\n",
    "gridSearch = GridSearchCV(model, parameters, cv=5)\n",
    "gridSearch.fit(X_train, y_train)\n",
    "#y_predict = model.predict(X_test)\n",
    "\n",
    "gridSearch.best_params_\n",
    "gridSearch.best_score_ \n",
    "gridSearch.cv_results_['params'][gridSearch.best_index_]\n",
    "# accuracy_score(y_test, y_predict)"
   ]
  },
  {
   "cell_type": "markdown",
   "metadata": {},
   "source": [
    "### Use Random Forest with found parameters"
   ]
  },
  {
   "cell_type": "code",
   "execution_count": 6,
   "metadata": {
    "pycharm": {
     "name": "#%%\n"
    }
   },
   "outputs": [
    {
     "name": "stdout",
     "output_type": "stream",
     "text": [
      "0.8440378710337769\n"
     ]
    },
    {
     "data": {
      "text/plain": [
       "[('Sales_info1', 0.1378788210954707),\n",
       " ('Personal_info1', 0.12556944380538543),\n",
       " ('Coverage_info2', 0.04361370871523019),\n",
       " ('Field_info4', 0.03959485742627113),\n",
       " ('Sales_info2', 0.03782699869110393),\n",
       " ('Field_info2', 0.03519458822640905),\n",
       " ('Property_info4', 0.03504816370080696),\n",
       " ('Geographic_info1', 0.03477226800388598),\n",
       " ('Personal_info2', 0.033768894612445956),\n",
       " ('Sales_info4', 0.033695218323655074),\n",
       " ('Quote_ID', 0.033543543322049424),\n",
       " ('Original_Quote_Date', 0.03282808598256751),\n",
       " ('Sales_info3', 0.03199373658562435),\n",
       " ('Property_info5', 0.030497099974000737),\n",
       " ('Property_info2', 0.028996174462980414),\n",
       " ('Property_info3', 0.028386642795743138),\n",
       " ('Coverage_info1', 0.027313542368017748),\n",
       " ('Field_info1', 0.02728467399013608),\n",
       " ('Coverage_info3', 0.027039674492873325),\n",
       " ('QuoteConversion_Flag', 0.022641787811451528),\n",
       " ('NJ', 0.019923039152352096),\n",
       " ('Personal_info4', 0.0183695789439054),\n",
       " ('IL', 0.017458079795672387),\n",
       " ('CA', 0.015127171096929645),\n",
       " ('Geographic_info4', 0.01456235799522992),\n",
       " ('Field_info3', 0.013884006121476831),\n",
       " ('Geographic_info3', 0.013654223762557089),\n",
       " ('Geographic_info2', 0.01354487991131659),\n",
       " ('Sales_info5', 0.013114088446627573),\n",
       " ('Personal_info3', 0.012874650387823986),\n",
       " ('Property_info1', 0.0)]"
      ]
     },
     "execution_count": 6,
     "metadata": {},
     "output_type": "execute_result"
    }
   ],
   "source": [
    "# Random Forest\n",
    "randomForestModel = RandomForestClassifier(n_estimators=200, criterion='entropy',n_jobs=-1)\n",
    "randomForestModel.fit(X_train, y_train)\n",
    "y_predict = randomForestModel.predict(X_test)\n",
    "\n",
    "print(accuracy_score(y_test, y_predict))\n",
    "\n",
    "features_dict = {}\n",
    "for i in range(len(randomForestModel.feature_importances_)):\n",
    "    features_dict[train_df.columns[i]] = randomForestModel.feature_importances_[i]\n",
    "sorted(features_dict.items(), key=lambda x:x[1], reverse=True)\n"
   ]
  },
  {
   "cell_type": "code",
   "execution_count": null,
   "metadata": {},
   "outputs": [],
   "source": [
    "result_predict = randomForestModel.predict(test_data)"
   ]
  },
  {
   "cell_type": "markdown",
   "metadata": {},
   "source": [
    "## k-nearest neighbour\n",
    "### Find best parameters for  k-nearest neighbour"
   ]
  },
  {
   "cell_type": "code",
   "execution_count": 15,
   "metadata": {},
   "outputs": [
    {
     "data": {
      "text/plain": [
       "{'n_neighbors': 20, 'weights': 'uniform'}"
      ]
     },
     "execution_count": 15,
     "metadata": {},
     "output_type": "execute_result"
    }
   ],
   "source": [
    "model = KNeighborsClassifier()\n",
    "parameters = {'n_neighbors':[1,20], 'weights':('uniform', 'distance')}\n",
    "gridSearch = GridSearchCV(model, parameters, cv=5)\n",
    "gridSearch.fit(X_train, y_train)\n",
    "\n",
    "gridSearch.best_params_\n",
    "gridSearch.best_score_ \n",
    "gridSearch.cv_results_['params'][gridSearch.best_index_]\n"
   ]
  },
  {
   "cell_type": "markdown",
   "metadata": {},
   "source": [
    "### Use k-nearest neighbour with found parameters"
   ]
  },
  {
   "cell_type": "code",
   "execution_count": 4,
   "metadata": {},
   "outputs": [
    {
     "data": {
      "text/plain": [
       "0.8223729102695326"
      ]
     },
     "execution_count": 4,
     "metadata": {},
     "output_type": "execute_result"
    }
   ],
   "source": [
    "KNeighbors = KNeighborsClassifier(n_neighbors=20, weights='uniform')\n",
    "KNeighbors.fit(X_train, y_train)\n",
    "y_predict = KNeighbors.predict(X_test)\n",
    "\n",
    "\n",
    "accuracy_score(y_test, y_predict)"
   ]
  },
  {
   "cell_type": "code",
   "execution_count": 45,
   "metadata": {},
   "outputs": [],
   "source": [
    "result_predict = KNeighbors.predict(test_data)"
   ]
  },
  {
   "cell_type": "markdown",
   "metadata": {},
   "source": [
    "## SVM\n",
    "### Find best parameters for SVM"
   ]
  },
  {
   "cell_type": "code",
   "execution_count": null,
   "metadata": {},
   "outputs": [],
   "source": []
  },
  {
   "cell_type": "markdown",
   "metadata": {},
   "source": [
    "### Use SVM with found parameters"
   ]
  },
  {
   "cell_type": "code",
   "execution_count": null,
   "metadata": {},
   "outputs": [],
   "source": []
  },
  {
   "cell_type": "markdown",
   "metadata": {},
   "source": [
    "## Neural Network\n",
    "### Find best parameters for neural network"
   ]
  },
  {
   "cell_type": "code",
   "execution_count": null,
   "metadata": {},
   "outputs": [],
   "source": []
  },
  {
   "cell_type": "markdown",
   "metadata": {},
   "source": [
    "### Use neural network with found parameters"
   ]
  },
  {
   "cell_type": "code",
   "execution_count": null,
   "metadata": {},
   "outputs": [],
   "source": []
  },
  {
   "cell_type": "markdown",
   "metadata": {},
   "source": [
    "### Save Result to file"
   ]
  },
  {
   "cell_type": "code",
   "execution_count": 3,
   "metadata": {},
   "outputs": [
    {
     "data": {
      "text/html": [
       "<div>\n",
       "<style scoped>\n",
       "    .dataframe tbody tr th:only-of-type {\n",
       "        vertical-align: middle;\n",
       "    }\n",
       "\n",
       "    .dataframe tbody tr th {\n",
       "        vertical-align: top;\n",
       "    }\n",
       "\n",
       "    .dataframe thead th {\n",
       "        text-align: right;\n",
       "    }\n",
       "</style>\n",
       "<table border=\"1\" class=\"dataframe\">\n",
       "  <thead>\n",
       "    <tr style=\"text-align: right;\">\n",
       "      <th></th>\n",
       "      <th>Quote_ID</th>\n",
       "      <th>QuoteConversion_Flag</th>\n",
       "    </tr>\n",
       "  </thead>\n",
       "  <tbody>\n",
       "    <tr>\n",
       "      <th>count</th>\n",
       "      <td>26076.000000</td>\n",
       "      <td>26076.000000</td>\n",
       "    </tr>\n",
       "    <tr>\n",
       "      <th>mean</th>\n",
       "      <td>13038.500000</td>\n",
       "      <td>0.133916</td>\n",
       "    </tr>\n",
       "    <tr>\n",
       "      <th>std</th>\n",
       "      <td>7527.637146</td>\n",
       "      <td>0.340569</td>\n",
       "    </tr>\n",
       "    <tr>\n",
       "      <th>min</th>\n",
       "      <td>1.000000</td>\n",
       "      <td>0.000000</td>\n",
       "    </tr>\n",
       "    <tr>\n",
       "      <th>25%</th>\n",
       "      <td>6519.750000</td>\n",
       "      <td>0.000000</td>\n",
       "    </tr>\n",
       "    <tr>\n",
       "      <th>50%</th>\n",
       "      <td>13038.500000</td>\n",
       "      <td>0.000000</td>\n",
       "    </tr>\n",
       "    <tr>\n",
       "      <th>75%</th>\n",
       "      <td>19557.250000</td>\n",
       "      <td>0.000000</td>\n",
       "    </tr>\n",
       "    <tr>\n",
       "      <th>max</th>\n",
       "      <td>26076.000000</td>\n",
       "      <td>1.000000</td>\n",
       "    </tr>\n",
       "  </tbody>\n",
       "</table>\n",
       "</div>"
      ],
      "text/plain": [
       "           Quote_ID  QuoteConversion_Flag\n",
       "count  26076.000000          26076.000000\n",
       "mean   13038.500000              0.133916\n",
       "std     7527.637146              0.340569\n",
       "min        1.000000              0.000000\n",
       "25%     6519.750000              0.000000\n",
       "50%    13038.500000              0.000000\n",
       "75%    19557.250000              0.000000\n",
       "max    26076.000000              1.000000"
      ]
     },
     "execution_count": 3,
     "metadata": {},
     "output_type": "execute_result"
    }
   ],
   "source": [
    "import pandas as pd\n",
    "test_df['QuoteConversion_Flag'] = pd.Series(result_predict, index=test_df.index)\n",
    "\n",
    "todrop=[]\n",
    "for col in test_df.columns:\n",
    "    if col not in ['Quote_ID','QuoteConversion_Flag']:\n",
    "        todrop.append(col)\n",
    "test_df.drop(columns=todrop, inplace=True)\n",
    "test_df.to_csv('Kaggle_Submission.csv', index=False)\n",
    "test_df.describe()"
   ]
  }
 ],
 "metadata": {
  "kernelspec": {
   "display_name": "Python 3",
   "language": "python",
   "name": "python3"
  },
  "language_info": {
   "codemirror_mode": {
    "name": "ipython",
    "version": 3
   },
   "file_extension": ".py",
   "mimetype": "text/x-python",
   "name": "python",
   "nbconvert_exporter": "python",
   "pygments_lexer": "ipython3",
   "version": "3.7.3"
  },
  "pycharm": {
   "stem_cell": {
    "cell_type": "raw",
    "metadata": {
     "collapsed": false
    },
    "source": []
   }
  }
 },
 "nbformat": 4,
 "nbformat_minor": 2
}
