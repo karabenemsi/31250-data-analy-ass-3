{
 "cells": [
  {
   "cell_type": "code",
   "execution_count": 35,
   "metadata": {
    "pycharm": {
     "is_executing": false
    }
   },
   "outputs": [],
   "source": [
    "import pandas as pd\n",
    "import numpy as np\n",
    "from sklearn.feature_selection import VarianceThreshold"
   ]
  },
  {
   "cell_type": "code",
   "execution_count": 36,
   "metadata": {
    "pycharm": {
     "is_executing": false
    }
   },
   "outputs": [],
   "source": [
    "dataset = pd.read_csv('TrainingSet.csv')"
   ]
  },
  {
   "cell_type": "code",
   "execution_count": 37,
   "outputs": [
    {
     "data": {
      "text/plain": "           Quote_ID  QuoteConversion_Flag   Field_info2  Coverage_info1  \\\ncount  78225.000000          78225.000000  78225.000000    78225.000000   \nmean   39113.000000              0.190604      0.938441        9.001687   \nstd    22581.756741              0.392780      0.036950        5.577922   \nmin        1.000000              0.000000      0.874600       -1.000000   \n25%    19557.000000              0.000000      0.915300        5.000000   \n50%    39113.000000              0.000000      0.940300        8.000000   \n75%    58669.000000              0.000000      0.968500       12.000000   \nmax    78225.000000              1.000000      1.010100       25.000000   \n\n       Coverage_info2   Sales_info1   Sales_info2   Sales_info3   Sales_info5  \\\ncount    78225.000000  78225.000000  78225.000000  78225.000000  78225.000000   \nmean        21.209575      0.744660      4.225759     13.984276  33748.747025   \nstd          4.899108      0.436055      0.978007      6.296627  19517.198520   \nmin          1.000000      0.000000      1.000000      1.000000      4.000000   \n25%         22.000000      0.000000      3.000000     11.000000  16823.000000   \n50%         22.000000      1.000000      5.000000     11.000000  33834.000000   \n75%         22.000000      1.000000      5.000000     20.000000  50727.000000   \nmax         25.000000      1.000000      5.000000     24.000000  67164.000000   \n\n       Personal_info2  Personal_info4  Personal_info5  Property_info2  \\\ncount    78225.000000    78225.000000    41186.000000         78225.0   \nmean         6.934855        0.001048        1.990264             0.0   \nstd          6.746576        0.046331        0.126504             0.0   \nmin         -1.000000        0.000000        1.000000             0.0   \n25%          4.000000        0.000000        2.000000             0.0   \n50%          6.000000        0.000000        2.000000             0.0   \n75%          9.000000        0.000000        2.000000             0.0   \nmax         25.000000        6.000000        7.000000             0.0   \n\n       Property_info4  Property_info5  Geographic_info1  Geographic_info2  \\\ncount    78225.000000    78225.000000      78225.000000      78225.000000   \nmean         0.665056       13.005714          7.343611         13.272956   \nstd          0.471974        7.205987          7.049304          6.869672   \nmin          0.000000       -1.000000         -1.000000         -1.000000   \n25%          0.000000        7.000000          2.000000          7.000000   \n50%          1.000000       13.000000          4.000000         13.000000   \n75%          1.000000       19.000000         11.000000         19.000000   \nmax          1.000000       25.000000         25.000000         25.000000   \n\n       Geographic_info3  \ncount      78225.000000  \nmean          -0.364832  \nstd            4.013867  \nmin           -1.000000  \n25%           -1.000000  \n50%           -1.000000  \n75%           -1.000000  \nmax           25.000000  ",
      "text/html": "<div>\n<style scoped>\n    .dataframe tbody tr th:only-of-type {\n        vertical-align: middle;\n    }\n\n    .dataframe tbody tr th {\n        vertical-align: top;\n    }\n\n    .dataframe thead th {\n        text-align: right;\n    }\n</style>\n<table border=\"1\" class=\"dataframe\">\n  <thead>\n    <tr style=\"text-align: right;\">\n      <th></th>\n      <th>Quote_ID</th>\n      <th>QuoteConversion_Flag</th>\n      <th>Field_info2</th>\n      <th>Coverage_info1</th>\n      <th>Coverage_info2</th>\n      <th>Sales_info1</th>\n      <th>Sales_info2</th>\n      <th>Sales_info3</th>\n      <th>Sales_info5</th>\n      <th>Personal_info2</th>\n      <th>Personal_info4</th>\n      <th>Personal_info5</th>\n      <th>Property_info2</th>\n      <th>Property_info4</th>\n      <th>Property_info5</th>\n      <th>Geographic_info1</th>\n      <th>Geographic_info2</th>\n      <th>Geographic_info3</th>\n    </tr>\n  </thead>\n  <tbody>\n    <tr>\n      <td>count</td>\n      <td>78225.000000</td>\n      <td>78225.000000</td>\n      <td>78225.000000</td>\n      <td>78225.000000</td>\n      <td>78225.000000</td>\n      <td>78225.000000</td>\n      <td>78225.000000</td>\n      <td>78225.000000</td>\n      <td>78225.000000</td>\n      <td>78225.000000</td>\n      <td>78225.000000</td>\n      <td>41186.000000</td>\n      <td>78225.0</td>\n      <td>78225.000000</td>\n      <td>78225.000000</td>\n      <td>78225.000000</td>\n      <td>78225.000000</td>\n      <td>78225.000000</td>\n    </tr>\n    <tr>\n      <td>mean</td>\n      <td>39113.000000</td>\n      <td>0.190604</td>\n      <td>0.938441</td>\n      <td>9.001687</td>\n      <td>21.209575</td>\n      <td>0.744660</td>\n      <td>4.225759</td>\n      <td>13.984276</td>\n      <td>33748.747025</td>\n      <td>6.934855</td>\n      <td>0.001048</td>\n      <td>1.990264</td>\n      <td>0.0</td>\n      <td>0.665056</td>\n      <td>13.005714</td>\n      <td>7.343611</td>\n      <td>13.272956</td>\n      <td>-0.364832</td>\n    </tr>\n    <tr>\n      <td>std</td>\n      <td>22581.756741</td>\n      <td>0.392780</td>\n      <td>0.036950</td>\n      <td>5.577922</td>\n      <td>4.899108</td>\n      <td>0.436055</td>\n      <td>0.978007</td>\n      <td>6.296627</td>\n      <td>19517.198520</td>\n      <td>6.746576</td>\n      <td>0.046331</td>\n      <td>0.126504</td>\n      <td>0.0</td>\n      <td>0.471974</td>\n      <td>7.205987</td>\n      <td>7.049304</td>\n      <td>6.869672</td>\n      <td>4.013867</td>\n    </tr>\n    <tr>\n      <td>min</td>\n      <td>1.000000</td>\n      <td>0.000000</td>\n      <td>0.874600</td>\n      <td>-1.000000</td>\n      <td>1.000000</td>\n      <td>0.000000</td>\n      <td>1.000000</td>\n      <td>1.000000</td>\n      <td>4.000000</td>\n      <td>-1.000000</td>\n      <td>0.000000</td>\n      <td>1.000000</td>\n      <td>0.0</td>\n      <td>0.000000</td>\n      <td>-1.000000</td>\n      <td>-1.000000</td>\n      <td>-1.000000</td>\n      <td>-1.000000</td>\n    </tr>\n    <tr>\n      <td>25%</td>\n      <td>19557.000000</td>\n      <td>0.000000</td>\n      <td>0.915300</td>\n      <td>5.000000</td>\n      <td>22.000000</td>\n      <td>0.000000</td>\n      <td>3.000000</td>\n      <td>11.000000</td>\n      <td>16823.000000</td>\n      <td>4.000000</td>\n      <td>0.000000</td>\n      <td>2.000000</td>\n      <td>0.0</td>\n      <td>0.000000</td>\n      <td>7.000000</td>\n      <td>2.000000</td>\n      <td>7.000000</td>\n      <td>-1.000000</td>\n    </tr>\n    <tr>\n      <td>50%</td>\n      <td>39113.000000</td>\n      <td>0.000000</td>\n      <td>0.940300</td>\n      <td>8.000000</td>\n      <td>22.000000</td>\n      <td>1.000000</td>\n      <td>5.000000</td>\n      <td>11.000000</td>\n      <td>33834.000000</td>\n      <td>6.000000</td>\n      <td>0.000000</td>\n      <td>2.000000</td>\n      <td>0.0</td>\n      <td>1.000000</td>\n      <td>13.000000</td>\n      <td>4.000000</td>\n      <td>13.000000</td>\n      <td>-1.000000</td>\n    </tr>\n    <tr>\n      <td>75%</td>\n      <td>58669.000000</td>\n      <td>0.000000</td>\n      <td>0.968500</td>\n      <td>12.000000</td>\n      <td>22.000000</td>\n      <td>1.000000</td>\n      <td>5.000000</td>\n      <td>20.000000</td>\n      <td>50727.000000</td>\n      <td>9.000000</td>\n      <td>0.000000</td>\n      <td>2.000000</td>\n      <td>0.0</td>\n      <td>1.000000</td>\n      <td>19.000000</td>\n      <td>11.000000</td>\n      <td>19.000000</td>\n      <td>-1.000000</td>\n    </tr>\n    <tr>\n      <td>max</td>\n      <td>78225.000000</td>\n      <td>1.000000</td>\n      <td>1.010100</td>\n      <td>25.000000</td>\n      <td>25.000000</td>\n      <td>1.000000</td>\n      <td>5.000000</td>\n      <td>24.000000</td>\n      <td>67164.000000</td>\n      <td>25.000000</td>\n      <td>6.000000</td>\n      <td>7.000000</td>\n      <td>0.0</td>\n      <td>1.000000</td>\n      <td>25.000000</td>\n      <td>25.000000</td>\n      <td>25.000000</td>\n      <td>25.000000</td>\n    </tr>\n  </tbody>\n</table>\n</div>"
     },
     "metadata": {},
     "output_type": "execute_result",
     "execution_count": 37
    }
   ],
   "source": [
    "dataset.describe()"
   ],
   "metadata": {
    "collapsed": false,
    "pycharm": {
     "name": "#%%\n",
     "is_executing": false
    }
   }
  },
  {
   "cell_type": "code",
   "execution_count": 38,
   "outputs": [
    {
     "name": "stdout",
     "text": [
      "Quote_ID\nOriginal_Quote_Date\nQuoteConversion_Flag\nField_info1\nField_info2\nField_info3\nField_info4\nCoverage_info1\nCoverage_info2\nCoverage_info3\nSales_info1\nSales_info2\nSales_info3\nSales_info4\nSales_info5\nPersonal_info1\nPersonal_info2\nPersonal_info3\nPersonal_info4\nPersonal_info5\nProperty_info1\nProperty_info2\nProperty_info3\nProperty_info4\nProperty_info5\nGeographic_info1\nGeographic_info2\nGeographic_info3\nGeographic_info4\nGeographic_info5\n"
     ],
     "output_type": "stream"
    }
   ],
   "source": [],
   "metadata": {
    "collapsed": false,
    "pycharm": {
     "name": "#%%\n",
     "is_executing": false
    }
   }
  }
 ],
 "metadata": {
  "kernelspec": {
   "display_name": "Python 3",
   "language": "python",
   "name": "python3"
  },
  "language_info": {
   "codemirror_mode": {
    "name": "ipython",
    "version": 3
   },
   "file_extension": ".py",
   "mimetype": "text/x-python",
   "name": "python",
   "nbconvert_exporter": "python",
   "pygments_lexer": "ipython3",
   "version": "3.7.3"
  },
  "pycharm": {
   "stem_cell": {
    "cell_type": "raw",
    "source": [],
    "metadata": {
     "collapsed": false
    }
   }
  }
 },
 "nbformat": 4,
 "nbformat_minor": 2
}